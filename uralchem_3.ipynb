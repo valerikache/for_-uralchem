{
 "cells": [
  {
   "cell_type": "code",
   "execution_count": 182,
   "id": "21d6166f",
   "metadata": {},
   "outputs": [
    {
     "data": {
      "text/plain": [
       "['1',\n",
       " '2',\n",
       " '51',\n",
       " '472',\n",
       " 'attr 1',\n",
       " 'attr 2',\n",
       " 'attr 3',\n",
       " 'attr 4',\n",
       " 'attr 5',\n",
       " 'attr 18',\n",
       " 'attr 55',\n",
       " 'attr 7',\n",
       " 'red',\n",
       " '3',\n",
       " '25',\n",
       " '0,08',\n",
       " 'length',\n",
       " '45',\n",
       " '85',\n",
       " '11',\n",
       " 'test',\n",
       " '0,11',\n",
       " '77',\n",
       " 'width',\n",
       " '5']"
      ]
     },
     "execution_count": 182,
     "metadata": {},
     "output_type": "execute_result"
    }
   ],
   "source": [
    "import pandas as pd\n",
    "def make_list(future_list):\n",
    "    unique_list = []\n",
    "    for i in future_list:\n",
    "        unique_list += i\n",
    "    unique_list = [str(x).strip(' ') for x in unique_list] \n",
    "    return unique_list\n",
    "\n",
    "df = pd.read_csv('table_3_202206272130.txt', skiprows=[1], sep='|')\n",
    "future_list = df[['item_code','attr_name','value ']].apply(lambda x: pd.unique(x).tolist()) \n",
    "make_list(future_list)"
   ]
  },
  {
   "cell_type": "code",
   "execution_count": null,
   "id": "f0f3368a",
   "metadata": {},
   "outputs": [],
   "source": []
  }
 ],
 "metadata": {
  "kernelspec": {
   "display_name": "Python 3 (ipykernel)",
   "language": "python",
   "name": "python3"
  },
  "language_info": {
   "codemirror_mode": {
    "name": "ipython",
    "version": 3
   },
   "file_extension": ".py",
   "mimetype": "text/x-python",
   "name": "python",
   "nbconvert_exporter": "python",
   "pygments_lexer": "ipython3",
   "version": "3.9.7"
  }
 },
 "nbformat": 4,
 "nbformat_minor": 5
}
